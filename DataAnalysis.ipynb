{
  "nbformat": 4,
  "nbformat_minor": 0,
  "metadata": {
    "colab": {
      "name": "DataAnalysis.ipynb",
      "provenance": [],
      "collapsed_sections": []
    },
    "kernelspec": {
      "name": "python3",
      "display_name": "Python 3"
    },
    "language_info": {
      "name": "python"
    }
  },
  "cells": [
    {
      "cell_type": "markdown",
      "metadata": {
        "id": "aOukGsKlkR4P"
      },
      "source": [
        "#彈性課程-自主學習\n",
        "##WEEK 01\n",
        "\n",
        "###2-11 判斷關鍵是有沒有出現在字串中\n",
        "\n",
        " 1.   搜尋關鍵字取得布林值\n",
        " 2.   透過index函數取得關鍵字起始位置\n",
        "\n",
        "```python\n",
        "# 判斷關鍵字有沒有出現在字串中\n",
        "string = 'The weather is good'\n",
        "'weather' in string # True\n",
        "'food' in string # False\n",
        "\n",
        "# 延伸學習—透過index函數取得關鍵字位置\n",
        "string.index('weather') # 4\n",
        "```\n",
        "\n",
        "\n",
        "\n",
        "###2-12 if條件判斷\n",
        "\n",
        " 1.   過多判斷適的處理方式-透過函數簡化排版\n",
        "\n",
        "```python\n",
        "# 主要程式\n",
        "a = False\n",
        "b = \"\"\n",
        "c = True\n",
        "\n",
        "if a:\n",
        "  print('a is true')\n",
        "elif b:\n",
        "  print('b is true')\n",
        "elif c:\n",
        "  print('c is true')\n",
        "else:\n",
        "  print('nothing is true')\n",
        "'''\n",
        "可見用傳統的判斷式寫法會過度攏長，以後處理相關內容時可能會提升解決難度。\n",
        "改使用函式來判斷，可大幅增加主要程式區的整潔度，並只要在函式中做修改，若造成錯誤也能更快速的判斷錯誤位置。\n",
        "'''\n",
        "```\n",
        "```python\n",
        "def Judgment():\n",
        "  if a:\n",
        "    print('a is true')\n",
        "    return # return 會停止以下程式並回報值，如未輸入值則會回報None.\n",
        "  if b:\n",
        "    print('b is true')\n",
        "    return\n",
        "  if c:\n",
        "    print('c is true')\n",
        "    return\n",
        "  print('nothing is true') # 因為若前面的判斷式成立即跳出程式，所以我們不必再建立else.\n",
        "\n",
        "# 主要程式\n",
        "a = False\n",
        "b = \"\"\n",
        "c = True\n",
        "\n",
        "Judgment() # 可見只需要呼叫函式即可造成相同效果。\n",
        "```\n",
        "###3-2 正規讀套件方法之一\n",
        "\n",
        "```python\n",
        "from math import * # 如此一來我們使用math的函數即不再需要透過math定位函數，直接使用即可。\n",
        "random(0, 5)\n",
        "cos(5)\n",
        "sin(5)\n",
        "```\n",
        "\n",
        "\n",
        "\n",
        "\n",
        "\n",
        "\n",
        "\n",
        "\n"
      ]
    },
    {
      "cell_type": "markdown",
      "metadata": {
        "id": "FxBZZYxtjfkR"
      },
      "source": [
        "##下周代辦事項\n",
        "\n",
        "\n",
        "*   擬訂計畫\n",
        "*   取得所選資料"
      ]
    },
    {
      "cell_type": "markdown",
      "metadata": {
        "id": "QCgefxwvUXWK"
      },
      "source": [
        "#WEEK 02\n",
        "##3-4 數據分析基本動作\n",
        "###每個數據分析程式的第一步驟：\n",
        "```python\n",
        "# 初始化Colab函式庫\n",
        "%pylab inline\n",
        "from numpy import * # Colab 提供之數學資料庫\n",
        "from matplotlib import * # Python 提供之繪圖資料庫\n",
        "```\n",
        "\n",
        "##規劃製作臺灣確診人數統計圖表\n",
        "\n",
        "1.   所選資料 - [COVID-19 Global Dashboard by Taiwan 最新台灣疫情關鍵報告](https://covid-19.nchc.org.tw/dt_005-covidTable_taiwan.php)\n",
        "2.   將[JSON檔](https://covid-19.nchc.org.tw/api/covid19?CK=covid-19@nchc.org.tw&querydata=4001&limited=TWN)繪製每月確診人數圖表\n"
      ]
    },
    {
      "cell_type": "code",
      "metadata": {
        "id": "ObvJEreYVQpe"
      },
      "source": [
        "%pylab inline\n",
        "from numpy import * # Colab 提供之數學資料庫\n",
        "from matplotlib import * # Python 提供之繪圖資料庫，"
      ],
      "execution_count": null,
      "outputs": []
    },
    {
      "cell_type": "code",
      "metadata": {
        "id": "xvUKV0x6YSjX"
      },
      "source": [
        "import json\n",
        "import requests\n",
        "\n",
        "def downloadData() -> \"json\":\n",
        "  data = requests.get(url)\n",
        "  if data.status_code == requests.codes.ok:\n",
        "    return data\n",
        "  else:\n",
        "    print(\"資料下載失敗，正在嘗試重新下載。\")\n",
        "    downloadData()\n",
        "\n",
        "def dateRequest() -> int:\n",
        "  try:\n",
        "    result = input(\"請輸入年份(西元)與月份，以空白鍵隔開：\")\n",
        "    if not result:\n",
        "      quit()\n",
        "    year, month = map(int, result.split())\n",
        "    return year, month\n",
        "  except:\n",
        "    print(\"輸入內容有誤，請重新輸入。\")\n",
        "    return dateRequest()\n",
        "\n",
        "def mainProgram():\n",
        "  a06_data = []\n",
        "  required_year, required_month = dateRequest()\n",
        "\n",
        "  for data in decoded_data:\n",
        "    year, month = list(map(int,data['a04'].split('-')))[:-1]\n",
        "    if year == required_year and month == required_month:  \n",
        "      a06_data.append(data['a06'])\n",
        "\n",
        "  if len(a06_data) > 0:\n",
        "    pyplot.plot(a06_data)\n",
        "  else:\n",
        "    print(\"查無資料，請重新輸入。\")\n",
        "\n",
        "url = \"https://covid-19.nchc.org.tw/api/covid19?CK=covid-19@nchc.org.tw&querydata=4001&limited=TWN\" # 資料網址，目前為\"台灣每日確診人數\"資料\n",
        "json_data = downloadData()\n",
        "\n",
        "decoded_data = json.loads(json_data.text) # 轉譯Json成Python List.\n",
        "decoded_data.reverse() # 反轉串列，使其開頭為最早日期(原本是最新日期)。\n",
        "\n",
        "mainProgram()"
      ],
      "execution_count": null,
      "outputs": []
    },
    {
      "cell_type": "code",
      "metadata": {
        "id": "aDhezfRG_wr8"
      },
      "source": [
        "import cv2\n",
        "\n",
        "img = cv.imread('/content/20210922.png')\n",
        "cv2_imshow(img)"
      ],
      "execution_count": null,
      "outputs": []
    },
    {
      "cell_type": "markdown",
      "metadata": {
        "id": "laGy5pahJLMi"
      },
      "source": [
        "#下周代辦事項\n",
        "\n",
        "*   繼續製作臺灣確診人數統計圖表\n",
        "\n"
      ]
    }
  ]
}